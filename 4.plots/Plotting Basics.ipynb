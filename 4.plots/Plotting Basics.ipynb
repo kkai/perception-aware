{
 "cells": [
  {
   "cell_type": "code",
   "execution_count": 32,
   "metadata": {
    "collapsed": false
   },
   "outputs": [],
   "source": [
    "import pandas as pd\n",
    "import numpy as np\n",
    "import matplotlib.pyplot as plt\n",
    "%matplotlib inline"
   ]
  },
  {
   "cell_type": "code",
   "execution_count": 73,
   "metadata": {
    "collapsed": false
   },
   "outputs": [],
   "source": [
    "data = pd.read_csv('../3.stats/data/assembly.dat',delimiter='\\t',skiprows=11,names=['s','usec','ax','ay','az','gx','gy','gz','mx','my','mz','label'])"
   ]
  },
  {
   "cell_type": "code",
   "execution_count": null,
   "metadata": {
    "collapsed": false
   },
   "outputs": [],
   "source": [
    "#simple line plot\n",
    "plt.plot(data['ax'])"
   ]
  },
  {
   "cell_type": "code",
   "execution_count": null,
   "metadata": {
    "collapsed": false
   },
   "outputs": [],
   "source": [
    "#simple line plot\n",
    "plt.plot(data['ax'])\n",
    "plt.xlim(4000,7000)"
   ]
  },
  {
   "cell_type": "markdown",
   "metadata": {},
   "source": [
    "Try to seperate the 3rd actvitiy (sandpapering) using the xlim and ylim command"
   ]
  },
  {
   "cell_type": "code",
   "execution_count": null,
   "metadata": {
    "collapsed": true
   },
   "outputs": [],
   "source": []
  },
  {
   "cell_type": "code",
   "execution_count": null,
   "metadata": {
    "collapsed": false
   },
   "outputs": [],
   "source": []
  },
  {
   "cell_type": "code",
   "execution_count": null,
   "metadata": {
    "collapsed": false
   },
   "outputs": [],
   "source": [
    "fig= plt.figure()\n",
    "plt.plot(data['ax'], label='acceleration x')\n",
    "plt.plot(data['gx'], label='gyrscope x')\n",
    "pylab.legend(loc='upper right')"
   ]
  },
  {
   "cell_type": "markdown",
   "metadata": {},
   "source": [
    "to save a figure use:"
   ]
  },
  {
   "cell_type": "code",
   "execution_count": null,
   "metadata": {
    "collapsed": true
   },
   "outputs": [],
   "source": [
    "fig.savefig(\"test.png\")"
   ]
  },
  {
   "cell_type": "code",
   "execution_count": null,
   "metadata": {
    "collapsed": false
   },
   "outputs": [],
   "source": [
    "fig = plt.figure()\n",
    "plt.plot(data['gx'], 'k.')\n",
    "plt.xlim(4000,7000)\n",
    "\n",
    "fig = plt.figure()\n",
    "plt.plot(data['gx'], 'k:')\n",
    "plt.xlim(4000,7000)"
   ]
  },
  {
   "cell_type": "markdown",
   "metadata": {},
   "source": [
    "for more details on plotting options see also: http://matplotlib.org/users/pyplot_tutorial.html\n",
    "\n",
    "We can change the size and DPI as follows:"
   ]
  },
  {
   "cell_type": "code",
   "execution_count": null,
   "metadata": {
    "collapsed": false
   },
   "outputs": [],
   "source": [
    "fig = plt.figure(figsize=(10,10), dpi=100)\n",
    "plt.plot(data['gx'], 'k-')"
   ]
  },
  {
   "cell_type": "markdown",
   "metadata": {},
   "source": [
    "#Histograms"
   ]
  },
  {
   "cell_type": "code",
   "execution_count": null,
   "metadata": {
    "collapsed": false
   },
   "outputs": [],
   "source": [
    "#to explore the hist command a bit more ... use this list\n",
    "alist =[1,2,3,4,5,5,5,4,4,4,4,4,4,5,6,4,4,4,4,4,4,4,4,3,2,2,8,8,8]\n",
    "hist(alist)"
   ]
  },
  {
   "cell_type": "code",
   "execution_count": null,
   "metadata": {
    "collapsed": false
   },
   "outputs": [],
   "source": [
    "#if you want to plot the density function with it ... pandas is nice:\n",
    "d = pd.Series(alist)\n",
    "d.hist()\n",
    "d.plot(kind='kde', style='k--')\n",
    "\n",
    "\n",
    "#try it with the gryo and accelerometer data"
   ]
  },
  {
   "cell_type": "code",
   "execution_count": 79,
   "metadata": {
    "collapsed": false
   },
   "outputs": [
    {
     "data": {
      "text/plain": [
       "<matplotlib.axes._subplots.AxesSubplot at 0x12c7c8310>"
      ]
     },
     "execution_count": 79,
     "metadata": {},
     "output_type": "execute_result"
    },
    {
     "data": {
      "image/png": "[encoded data removed]",
      "text/plain": [
       "<matplotlib.figure.Figure at 0x12ca84950>"
      ]
     },
     "metadata": {},
     "output_type": "display_data"
    }
   ],
   "source": [
    "data['ax'].plot(kind='kde', style='k--')\n",
    "\n",
    "data['ay'].plot(kind='kde', style='k--')\n",
    "data['az'].plot(kind='kde', style='k--')"
   ]
  },
  {
   "cell_type": "markdown",
   "metadata": {},
   "source": [
    "#Barcharts"
   ]
  },
  {
   "cell_type": "code",
   "execution_count": null,
   "metadata": {
    "collapsed": false
   },
   "outputs": [],
   "source": [
    "y = [3, 10, 7, 5, 3, 4.5, 6, 8.1]\n",
    "N = len(y)\n",
    "x = range(N)\n",
    "width = 1/1.5\n",
    "plt.bar(x, y, width, color=\"blue\") "
   ]
  },
  {
   "cell_type": "code",
   "execution_count": null,
   "metadata": {
    "collapsed": true
   },
   "outputs": [],
   "source": []
  },
  {
   "cell_type": "code",
   "execution_count": null,
   "metadata": {
    "collapsed": false
   },
   "outputs": [],
   "source": [
    "plt.barh(x, y, width, color=\"blue\") "
   ]
  },
  {
   "cell_type": "code",
   "execution_count": null,
   "metadata": {
    "collapsed": true
   },
   "outputs": [],
   "source": []
  },
  {
   "cell_type": "markdown",
   "metadata": {},
   "source": [
    "#Workshop Scenario\n",
    "\n",
    "Trying to build an activity recognition system for several workshop activities.\n",
    "\n",
    "\n",
    "##Hypthesis \n",
    "We can distinguish hammering, screwdriving, sandpapering and sawing, using a wirst worne accelerometer/gyroscope\n",
    "(so far user dependent).\n",
    "\n",
    "##Data Recording\n",
    "\n",
    "The assembly.dat file contains a recording done from a assembly session.\n",
    "\n",
    "A person was doing the following activities: \n",
    "\n",
    "* hammering in nails (label 1)\n",
    "* screwdring (label 2)\n",
    "* sandpapering (label 3)\n",
    "* sawing (label 4)\n",
    "\n",
    "Label 0 is for doing none of the activities above. The sensor is attached to the subjects right wrist (x axis pointing towards the fingers). \n",
    "The sensor was sampled with 100 Hz, it's raw sensor data (not calibrated). The data structure of the file is shown in the header of the file."
   ]
  },
  {
   "cell_type": "code",
   "execution_count": null,
   "metadata": {
    "collapsed": false
   },
   "outputs": [],
   "source": [
    "accel_hammer = data[data['label']==1][['ax','ay','az']]\n",
    "accel_hammer.plot()"
   ]
  },
  {
   "cell_type": "code",
   "execution_count": null,
   "metadata": {
    "collapsed": false
   },
   "outputs": [],
   "source": [
    "accel_hammer = data[data['label']==1][['ax','ay','az']]\n",
    "accel_screw = data[data['label']==2][['ax','ay','az']]\n",
    "accel_hammer.plot()\n",
    "accel_screw.plot()"
   ]
  },
  {
   "cell_type": "code",
   "execution_count": null,
   "metadata": {
    "collapsed": false
   },
   "outputs": [],
   "source": [
    "accel_hammer = data[data['label']==1][['ax','ay','az']]\n",
    "from pandas.stats.moments import rolling_apply\n",
    "\n",
    "method = var\n",
    "wsize = 50\n",
    "\n",
    "accel_var_hammer = rolling_apply(accel_hammer, wsize, method).dropna()\n",
    "accel_var_screw = rolling_apply(accel_screw, wsize, method).dropna()\n",
    "\n",
    "scatter(accel_var_screw['ax'],accel_var_screw['ay'],color='blue')\n",
    "scatter(accel_var_hammer['ax'],accel_var_hammer['ay'],color='red')\n",
    "\n"
   ]
  },
  {
   "cell_type": "markdown",
   "metadata": {},
   "source": [
    "#3D Scatter Plots"
   ]
  },
  {
   "cell_type": "code",
   "execution_count": 57,
   "metadata": {
    "collapsed": true
   },
   "outputs": [],
   "source": [
    "from mpl_toolkits.mplot3d.axes3d import Axes3D\n"
   ]
  },
  {
   "cell_type": "code",
   "execution_count": null,
   "metadata": {
    "collapsed": false
   },
   "outputs": [],
   "source": [
    "fig = plt.figure(figsize=(14,6))\n",
    "ax = plt.axes(projection='3d')\n",
    "\n",
    "ax.scatter(accel_var_screw['ax'],accel_var_screw['ay'],accel_var_screw['az'])\n",
    "ax.scatter(accel_var_hammer['ax'],accel_var_hammer['ay'],accel_var_hammer['az'],c='red')\n"
   ]
  },
  {
   "cell_type": "code",
   "execution_count": null,
   "metadata": {
    "collapsed": true
   },
   "outputs": [],
   "source": []
  }
 ],
 "metadata": {
  "kernelspec": {
   "display_name": "Python 2",
   "language": "python",
   "name": "python2"
  },
  "language_info": {
   "codemirror_mode": {
    "name": "ipython",
    "version": 2
   },
   "file_extension": ".py",
   "mimetype": "text/x-python",
   "name": "python",
   "nbconvert_exporter": "python",
   "pygments_lexer": "ipython2",
   "version": "2.7.8"
  }
 },
 "nbformat": 4,
 "nbformat_minor": 0
}

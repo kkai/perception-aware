{
 "cells": [
  {
   "cell_type": "markdown",
   "metadata": {},
   "source": [
    "#Workshop Scenario\n",
    "\n",
    "Trying to build an activity recognition system for several workshop activities.\n",
    "\n",
    "\n",
    "##Hypthesis \n",
    "We can distinguish hammering, screwdriving, sandpapering and sawing, using a wirst worne accelerometer/gyroscope\n",
    "(so far user dependent).\n",
    "\n",
    "##Data Recording\n",
    "\n",
    "The assembly.dat file contains a recording done from a assembly session.\n",
    "\n",
    "A person was doing the following activities: \n",
    "\n",
    "* hammering in nails (label 1)\n",
    "* screwdring (label 2)\n",
    "* sandpapering (label 3)\n",
    "* sawing (label 4)\n",
    "\n",
    "Label 0 is for doing none of the activities above. The sensor is attached to the subjects right wrist (x axis pointing towards the fingers). \n",
    "The sensor was sampled with 100 Hz, it's raw sensor data (not calibrated). The data structure of the file is shown in the header of the file."
   ]
  },
  {
   "cell_type": "code",
   "execution_count": 40,
   "metadata": {
    "collapsed": false
   },
   "outputs": [
    {
     "name": "stdout",
     "output_type": "stream",
     "text": [
      "Populating the interactive namespace from numpy and matplotlib\n"
     ]
    }
   ],
   "source": [
    "from pandas import read_csv\n",
    "%pylab inline\n",
    "\n",
    "data = read_csv('./data/assembly.dat',delimiter='\\t',skiprows=11,names=['s','usec','ax','ay','az','gx','gy','gz','mx','my','mz','label'])"
   ]
  },
  {
   "cell_type": "markdown",
   "metadata": {},
   "source": [
    "#Data Exploration\n",
    "After we read in the data, use the describe() function to get an overview."
   ]
  },
  {
   "cell_type": "code",
   "execution_count": null,
   "metadata": {
    "collapsed": false
   },
   "outputs": [],
   "source": []
  },
  {
   "cell_type": "code",
   "execution_count": null,
   "metadata": {
    "collapsed": false
   },
   "outputs": [],
   "source": [
    "#to get access to a specific data column you can use the following:\n",
    "data['ax']\n",
    "data[['ax','ay']]"
   ]
  },
  {
   "cell_type": "markdown",
   "metadata": {},
   "source": [
    "Use describe() just on the accelerometer data.\n",
    "Then use describe() on the gyro data.\n"
   ]
  },
  {
   "cell_type": "code",
   "execution_count": null,
   "metadata": {
    "collapsed": true
   },
   "outputs": [],
   "source": []
  },
  {
   "cell_type": "markdown",
   "metadata": {},
   "source": [
    "Actually that does not tell us too much. Quickly plot the accelerometer and gyro data. Can you see a difference between the acceleration and rotational velocity? What is it?"
   ]
  },
  {
   "cell_type": "code",
   "execution_count": null,
   "metadata": {
    "collapsed": true
   },
   "outputs": [],
   "source": []
  },
  {
   "cell_type": "markdown",
   "metadata": {},
   "source": [
    "Next use the hist() function on the individual axis of the acceleration and gyroscope."
   ]
  },
  {
   "cell_type": "code",
   "execution_count": null,
   "metadata": {
    "collapsed": false
   },
   "outputs": [],
   "source": []
  },
  {
   "cell_type": "markdown",
   "metadata": {},
   "source": [
    "If you want to print several plots into one figure use hold(True)"
   ]
  },
  {
   "cell_type": "code",
   "execution_count": null,
   "metadata": {
    "collapsed": true
   },
   "outputs": [],
   "source": [
    "hold(True)\n",
    "hist(data['ax'])\n",
    "hist(data['ay'])"
   ]
  },
  {
   "cell_type": "markdown",
   "metadata": {},
   "source": [
    "##Segmenting the individual activities\n",
    "Let's look at the hammering, screwdriving, sandpapering and sawing data individually.\n",
    "You can use pandas filtering on the individual labels e.g.\n",
    "\n",
    "accel_hammer = data[data['label']==1][['ax','ay','az']]\n",
    "\n",
    "plot them and calculate the descriptive statistics (e.g. mean, var etc.).\n",
    "\n",
    "Do you think the activitites can be recognized using these sensors?\n",
    "\n",
    "Can you distinguish them?\n"
   ]
  },
  {
   "cell_type": "code",
   "execution_count": null,
   "metadata": {
    "collapsed": true
   },
   "outputs": [],
   "source": []
  },
  {
   "cell_type": "markdown",
   "metadata": {},
   "source": [
    "#How to deal with Time Series Data\n",
    "One of the easiest ways to classify and work with Time Series Data is to use a sliding window, sometimes also called rolling function.\n"
   ]
  },
  {
   "cell_type": "code",
   "execution_count": 39,
   "metadata": {
    "collapsed": false
   },
   "outputs": [],
   "source": [
    "accel_hammer = data[data['label']==1][['ax','ay','az']]\n",
    "from pandas.stats.moments import rolling_apply\n",
    "\n",
    "method = var\n",
    "wsize = 50\n",
    "\n",
    "accel_var_hammer = rolling_apply(accel_hammer, wsize, method).dropna()\n"
   ]
  },
  {
   "cell_type": "markdown",
   "metadata": {},
   "source": [
    "#Finding Features\n",
    "\n",
    "You can use scatter() to plot the different features against each other ...\n",
    "If you use hold on it can give you a hint if the data is distinguishable."
   ]
  },
  {
   "cell_type": "code",
   "execution_count": 38,
   "metadata": {
    "collapsed": false,
    "scrolled": true
   },
   "outputs": [
    {
     "data": {
      "text/plain": [
       "<matplotlib.collections.PathCollection at 0x111165550>"
      ]
     },
     "execution_count": 38,
     "metadata": {},
     "output_type": "execute_result"
    },
    {
     "data": {
      "image/png": "[encoded data removed]",
      "text/plain": [
       "<matplotlib.figure.Figure at 0x11106bf10>"
      ]
     },
     "metadata": {},
     "output_type": "display_data"
    }
   ],
   "source": [
    "scatter(accel_var_hammer['az'],accel_var_hammer['ay'],color='red')"
   ]
  },
  {
   "cell_type": "code",
   "execution_count": null,
   "metadata": {
    "collapsed": true
   },
   "outputs": [],
   "source": []
  }
 ],
 "metadata": {
  "kernelspec": {
   "display_name": "Python 2",
   "language": "python",
   "name": "python2"
  },
  "language_info": {
   "codemirror_mode": {
    "name": "ipython",
    "version": 2
   },
   "file_extension": ".py",
   "mimetype": "text/x-python",
   "name": "python",
   "nbconvert_exporter": "python",
   "pygments_lexer": "ipython2",
   "version": "2.7.8"
  }
 },
 "nbformat": 4,
 "nbformat_minor": 0
}

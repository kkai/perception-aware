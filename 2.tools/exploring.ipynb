{
 "cells": [
  {
   "cell_type": "code",
   "execution_count": 1,
   "metadata": {
    "collapsed": false
   },
   "outputs": [
    {
     "name": "stdout",
     "output_type": "stream",
     "text": [
      "Populating the interactive namespace from numpy and matplotlib\n"
     ]
    }
   ],
   "source": [
    "%pylab inline"
   ]
  },
  {
   "cell_type": "code",
   "execution_count": 2,
   "metadata": {
    "collapsed": true
   },
   "outputs": [],
   "source": [
    "import pandas as pd"
   ]
  },
  {
   "cell_type": "code",
   "execution_count": 14,
   "metadata": {
    "collapsed": false
   },
   "outputs": [],
   "source": [
    "aq=pd.read_csv('data/anscombesQuartet.csv')"
   ]
  },
  {
   "cell_type": "code",
   "execution_count": 15,
   "metadata": {
    "collapsed": false
   },
   "outputs": [
    {
     "data": {
      "text/html": [
       "<div style=\"max-height:1000px;max-width:1500px;overflow:auto;\">\n",
       "<table border=\"1\" class=\"dataframe\">\n",
       "  <thead>\n",
       "    <tr style=\"text-align: right;\">\n",
       "      <th></th>\n",
       "      <th>I_x</th>\n",
       "      <th>I_y</th>\n",
       "      <th>II_x</th>\n",
       "      <th>II_y</th>\n",
       "      <th>III_x</th>\n",
       "      <th>III_y</th>\n",
       "      <th>IV_x</th>\n",
       "      <th>IV_y</th>\n",
       "    </tr>\n",
       "  </thead>\n",
       "  <tbody>\n",
       "    <tr>\n",
       "      <th>0</th>\n",
       "      <td>10</td>\n",
       "      <td>8.04</td>\n",
       "      <td>10</td>\n",
       "      <td>9.14</td>\n",
       "      <td>10</td>\n",
       "      <td>7.46</td>\n",
       "      <td>8</td>\n",
       "      <td>6.58</td>\n",
       "    </tr>\n",
       "    <tr>\n",
       "      <th>1</th>\n",
       "      <td>8</td>\n",
       "      <td>6.95</td>\n",
       "      <td>8</td>\n",
       "      <td>8.14</td>\n",
       "      <td>8</td>\n",
       "      <td>6.77</td>\n",
       "      <td>8</td>\n",
       "      <td>5.76</td>\n",
       "    </tr>\n",
       "    <tr>\n",
       "      <th>2</th>\n",
       "      <td>13</td>\n",
       "      <td>7.58</td>\n",
       "      <td>13</td>\n",
       "      <td>8.74</td>\n",
       "      <td>13</td>\n",
       "      <td>12.74</td>\n",
       "      <td>8</td>\n",
       "      <td>7.71</td>\n",
       "    </tr>\n",
       "    <tr>\n",
       "      <th>3</th>\n",
       "      <td>9</td>\n",
       "      <td>8.81</td>\n",
       "      <td>9</td>\n",
       "      <td>8.77</td>\n",
       "      <td>9</td>\n",
       "      <td>7.11</td>\n",
       "      <td>8</td>\n",
       "      <td>8.84</td>\n",
       "    </tr>\n",
       "    <tr>\n",
       "      <th>4</th>\n",
       "      <td>11</td>\n",
       "      <td>8.33</td>\n",
       "      <td>11</td>\n",
       "      <td>9.26</td>\n",
       "      <td>11</td>\n",
       "      <td>7.81</td>\n",
       "      <td>8</td>\n",
       "      <td>8.47</td>\n",
       "    </tr>\n",
       "    <tr>\n",
       "      <th>5</th>\n",
       "      <td>14</td>\n",
       "      <td>9.96</td>\n",
       "      <td>14</td>\n",
       "      <td>8.10</td>\n",
       "      <td>14</td>\n",
       "      <td>8.84</td>\n",
       "      <td>8</td>\n",
       "      <td>7.04</td>\n",
       "    </tr>\n",
       "    <tr>\n",
       "      <th>6</th>\n",
       "      <td>6</td>\n",
       "      <td>7.24</td>\n",
       "      <td>6</td>\n",
       "      <td>6.13</td>\n",
       "      <td>6</td>\n",
       "      <td>6.08</td>\n",
       "      <td>8</td>\n",
       "      <td>5.25</td>\n",
       "    </tr>\n",
       "    <tr>\n",
       "      <th>7</th>\n",
       "      <td>4</td>\n",
       "      <td>4.26</td>\n",
       "      <td>4</td>\n",
       "      <td>3.10</td>\n",
       "      <td>4</td>\n",
       "      <td>5.39</td>\n",
       "      <td>19</td>\n",
       "      <td>12.50</td>\n",
       "    </tr>\n",
       "    <tr>\n",
       "      <th>8</th>\n",
       "      <td>12</td>\n",
       "      <td>10.84</td>\n",
       "      <td>12</td>\n",
       "      <td>9.13</td>\n",
       "      <td>12</td>\n",
       "      <td>8.15</td>\n",
       "      <td>8</td>\n",
       "      <td>5.56</td>\n",
       "    </tr>\n",
       "    <tr>\n",
       "      <th>9</th>\n",
       "      <td>7</td>\n",
       "      <td>4.82</td>\n",
       "      <td>7</td>\n",
       "      <td>7.26</td>\n",
       "      <td>7</td>\n",
       "      <td>6.42</td>\n",
       "      <td>8</td>\n",
       "      <td>7.91</td>\n",
       "    </tr>\n",
       "    <tr>\n",
       "      <th>10</th>\n",
       "      <td>5</td>\n",
       "      <td>5.68</td>\n",
       "      <td>5</td>\n",
       "      <td>4.74</td>\n",
       "      <td>5</td>\n",
       "      <td>5.73</td>\n",
       "      <td>8</td>\n",
       "      <td>6.89</td>\n",
       "    </tr>\n",
       "  </tbody>\n",
       "</table>\n",
       "</div>"
      ],
      "text/plain": [
       "    I_x    I_y  II_x  II_y  III_x  III_y  IV_x   IV_y\n",
       "0    10   8.04    10  9.14     10   7.46     8   6.58\n",
       "1     8   6.95     8  8.14      8   6.77     8   5.76\n",
       "2    13   7.58    13  8.74     13  12.74     8   7.71\n",
       "3     9   8.81     9  8.77      9   7.11     8   8.84\n",
       "4    11   8.33    11  9.26     11   7.81     8   8.47\n",
       "5    14   9.96    14  8.10     14   8.84     8   7.04\n",
       "6     6   7.24     6  6.13      6   6.08     8   5.25\n",
       "7     4   4.26     4  3.10      4   5.39    19  12.50\n",
       "8    12  10.84    12  9.13     12   8.15     8   5.56\n",
       "9     7   4.82     7  7.26      7   6.42     8   7.91\n",
       "10    5   5.68     5  4.74      5   5.73     8   6.89"
      ]
     },
     "execution_count": 15,
     "metadata": {},
     "output_type": "execute_result"
    }
   ],
   "source": [
    "aq"
   ]
  },
  {
   "cell_type": "code",
   "execution_count": 16,
   "metadata": {
    "collapsed": false
   },
   "outputs": [
    {
     "data": {
      "text/plain": [
       "0     10\n",
       "1      8\n",
       "2     13\n",
       "3      9\n",
       "4     11\n",
       "5     14\n",
       "6      6\n",
       "7      4\n",
       "8     12\n",
       "9      7\n",
       "10     5\n",
       "Name: I_x, dtype: float64"
      ]
     },
     "execution_count": 16,
     "metadata": {},
     "output_type": "execute_result"
    }
   ],
   "source": [
    "aq['I_x']"
   ]
  },
  {
   "cell_type": "code",
   "execution_count": 17,
   "metadata": {
    "collapsed": false
   },
   "outputs": [
    {
     "data": {
      "text/plain": [
       "9.0"
      ]
     },
     "execution_count": 17,
     "metadata": {},
     "output_type": "execute_result"
    }
   ],
   "source": [
    "mean(aq['I_x'])"
   ]
  },
  {
   "cell_type": "code",
   "execution_count": 20,
   "metadata": {
    "collapsed": false
   },
   "outputs": [
    {
     "data": {
      "text/plain": [
       "3.1622776601683795"
      ]
     },
     "execution_count": 20,
     "metadata": {},
     "output_type": "execute_result"
    }
   ],
   "source": [
    "std(aq['I_x'])"
   ]
  },
  {
   "cell_type": "code",
   "execution_count": null,
   "metadata": {
    "collapsed": false
   },
   "outputs": [],
   "source": []
  },
  {
   "cell_type": "code",
   "execution_count": null,
   "metadata": {
    "collapsed": false
   },
   "outputs": [],
   "source": [
    "plot(aq['I_x'], aq['I_y'],'*')"
   ]
  },
  {
   "cell_type": "code",
   "execution_count": null,
   "metadata": {
    "collapsed": true
   },
   "outputs": [],
   "source": []
  }
 ],
 "metadata": {
  "kernelspec": {
   "display_name": "Python 2",
   "language": "python",
   "name": "python2"
  },
  "language_info": {
   "codemirror_mode": {
    "name": "ipython",
    "version": 2
   },
   "file_extension": ".py",
   "mimetype": "text/x-python",
   "name": "python",
   "nbconvert_exporter": "python",
   "pygments_lexer": "ipython2",
   "version": "2.7.8"
  }
 },
 "nbformat": 4,
 "nbformat_minor": 0
}

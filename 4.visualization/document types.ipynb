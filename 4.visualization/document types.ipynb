{
 "cells": [
  {
   "cell_type": "markdown",
   "metadata": {},
   "source": [
    "# Exploring Eye gaze data#\n",
    "First setup the variables raw, working and output folder\n",
    "as well as import the eyegaze file for reading and filtering eyegaze data."
   ]
  },
  {
   "cell_type": "code",
   "execution_count": 6,
   "metadata": {
    "collapsed": false
   },
   "outputs": [
    {
     "name": "stdout",
     "output_type": "stream",
     "text": [
      "Populating the interactive namespace from numpy and matplotlib\n"
     ]
    }
   ],
   "source": [
    "%pylab inline\n",
    "import eyegaze as eg\n",
    "reload(eg)\n",
    "\n",
    "raw_folder = './data/'\n",
    "\n",
    "manga_fname = raw_folder +'manga.txt'\n",
    "novel_fname = raw_folder +'novel.txt'\n",
    "textb_fname = raw_folder +'textbook.txt'"
   ]
  },
  {
   "cell_type": "code",
   "execution_count": 4,
   "metadata": {
    "collapsed": true
   },
   "outputs": [],
   "source": [
    "m_time, m_x, m_y = eg.read_raw(manga_fname)\n",
    "n_time, n_x, n_y = eg.read_raw(novel_fname)\n",
    "t_time, t_x, t_y = eg.read_raw(textb_fname)"
   ]
  },
  {
   "cell_type": "code",
   "execution_count": null,
   "metadata": {
    "collapsed": true
   },
   "outputs": [],
   "source": [
    "plot(m_x, m_y[450:650],'-o')\n",
    "title('manga')\n",
    "xlabel('x')\n",
    "ylabel('y')\n",
    "\n",
    "figure()\n",
    "plot(n_x[450:650], n_y[450:650],'-o')\n",
    "title('novel')\n",
    "xlabel('x')\n",
    "ylabel('y')\n",
    "\n",
    "figure()\n",
    "plot(t_x[450:650], t_y[450:650],'-o')\n",
    "title('textbook')\n",
    "xlabel('x')\n",
    "ylabel('y')"
   ]
  },
  {
   "cell_type": "code",
   "execution_count": null,
   "metadata": {
    "collapsed": false
   },
   "outputs": [],
   "source": [
    "plot(m_x[450:650], m_y[450:650],'-o')\n",
    "title('manga')\n",
    "xlabel('x')\n",
    "ylabel('y')\n",
    "\n",
    "figure()\n",
    "plot(n_x[450:650], n_y[450:650],'-o')\n",
    "title('novel')\n",
    "xlabel('x')\n",
    "ylabel('y')\n",
    "\n",
    "figure()\n",
    "plot(t_x[450:650], t_y[450:650],'-o')\n",
    "title('textbook')\n",
    "xlabel('x')\n",
    "ylabel('y')"
   ]
  },
  {
   "cell_type": "code",
   "execution_count": null,
   "metadata": {
    "collapsed": false
   },
   "outputs": [],
   "source": [
    "mf_time,mf_d, mf_x, mf_y = eg.filter_fixations(m_time,m_x,m_y)\n",
    "nf_time,nf_d, nf_x, nf_y = eg.filter_fixations(n_time,n_x,n_y)\n",
    "tf_time,tf_d, tf_x, tf_y = eg.filter_fixations(t_time,t_x,t_y)\n",
    "\n",
    "plot(mf_x[450:650], mf_y[450:650],'-o')\n",
    "figure()\n",
    "plot(nf_x[450:650], nf_y[450:650],'-o')\n",
    "figure()\n",
    "plot(tf_x[450:650], tf_y[450:650],'-o')"
   ]
  },
  {
   "cell_type": "code",
   "execution_count": null,
   "metadata": {
    "collapsed": false
   },
   "outputs": [],
   "source": [
    "fig, axes = subplots(1,1, sharey=True,frameon=False)\n",
    "axes.axis('off')\n",
    "axes.plot(mf_x[450:650],mf_y[450:650],'-',c='grey',linewidth=1.3,zorder=1,alpha=0.95)\n",
    "axes.scatter(mf_x[450:650],mf_y[450:650],s=0.0002*numpy.array(mf_d[450:650]),c='b',zorder=2,alpha=0.5"
   ]
  },
  {
   "cell_type": "code",
   "execution_count": null,
   "metadata": {
    "collapsed": true
   },
   "outputs": [],
   "source": []
  }
 ],
 "metadata": {
  "kernelspec": {
   "display_name": "Python 2",
   "language": "python",
   "name": "python2"
  },
  "language_info": {
   "codemirror_mode": {
    "name": "ipython",
    "version": 2
   },
   "file_extension": ".py",
   "mimetype": "text/x-python",
   "name": "python",
   "nbconvert_exporter": "python",
   "pygments_lexer": "ipython2",
   "version": "2.7.11"
  }
 },
 "nbformat": 4,
 "nbformat_minor": 0
}

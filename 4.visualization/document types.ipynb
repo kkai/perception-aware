{
 "cells": [
  {
   "cell_type": "markdown",
   "metadata": {},
   "source": [
    "# Exploring Eye gaze data#\n",
    "First setup the variables raw, working and output folder\n",
    "as well as import the eyegaze file for reading and filtering eyegaze data."
   ]
  },
  {
   "cell_type": "code",
   "execution_count": 1,
   "metadata": {
    "collapsed": false
   },
   "outputs": [
    {
     "name": "stdout",
     "output_type": "stream",
     "text": [
      "Populating the interactive namespace from numpy and matplotlib\n"
     ]
    }
   ],
   "source": [
    "%pylab inline\n",
    "import eyegaze as eg\n",
    "import imp\n",
    "imp.reload(eg)\n",
    "\n",
    "raw_folder = './data/'\n",
    "\n",
    "manga_fname = raw_folder +'manga.txt'\n",
    "novel_fname = raw_folder +'novel.txt'\n",
    "textb_fname = raw_folder +'textbook.txt'"
   ]
  },
  {
   "cell_type": "code",
   "execution_count": 2,
   "metadata": {
    "collapsed": true
   },
   "outputs": [],
   "source": [
    "m_time, m_x, m_y = eg.read_raw(manga_fname)\n",
    "n_time, n_x, n_y = eg.read_raw(novel_fname)\n",
    "t_time, t_x, t_y = eg.read_raw(textb_fname)"
   ]
  },
  {
   "cell_type": "code",
   "execution_count": null,
   "metadata": {
    "collapsed": false
   },
   "outputs": [],
   "source": [
    "plot(m_x, m_y,'-o')\n",
    "title('manga')\n",
    "xlabel('x')\n",
    "ylabel('y')\n",
    "\n",
    "figure()\n",
    "plot(n_x, n_y,'-o')\n",
    "title('novel')\n",
    "xlabel('x')\n",
    "ylabel('y')\n",
    "\n",
    "figure()\n",
    "plot(t_x, t_y,'-o')\n",
    "title('textbook')\n",
    "xlabel('x')\n",
    "ylabel('y')"
   ]
  },
  {
   "cell_type": "code",
   "execution_count": null,
   "metadata": {
    "collapsed": false
   },
   "outputs": [],
   "source": [
    "plot(m_x[450:650], m_y[450:650],'-o')\n",
    "title('manga')\n",
    "xlabel('x')\n",
    "ylabel('y')\n",
    "\n",
    "figure()\n",
    "plot(n_x[450:650], n_y[450:650],'-o')\n",
    "title('novel')\n",
    "xlabel('x')\n",
    "ylabel('y')\n",
    "\n",
    "figure()\n",
    "plot(t_x[450:650], t_y[450:650],'-o')\n",
    "title('textbook')\n",
    "xlabel('x')\n",
    "ylabel('y')"
   ]
  },
  {
   "cell_type": "code",
   "execution_count": null,
   "metadata": {
    "collapsed": false
   },
   "outputs": [],
   "source": [
    "mf_time,mf_d, mf_x, mf_y = eg.filter_fixations(m_time,m_x,m_y)\n",
    "nf_time,nf_d, nf_x, nf_y = eg.filter_fixations(n_time,n_x,n_y)\n",
    "tf_time,tf_d, tf_x, tf_y = eg.filter_fixations(t_time,t_x,t_y)\n",
    "\n",
    "plot(mf_x[450:650], mf_y[450:650],'-o')\n",
    "figure()\n",
    "plot(nf_x[450:650], nf_y[450:650],'-o')\n",
    "figure()\n",
    "plot(tf_x[450:650], tf_y[450:650],'-o')"
   ]
  },
  {
   "cell_type": "code",
   "execution_count": null,
   "metadata": {
    "collapsed": false
   },
   "outputs": [],
   "source": [
    "fig, axes = subplots(1,1, sharey=True,frameon=False)\n",
    "axes.axis('off')\n",
    "axes.plot(mf_x[450:650],mf_y[450:650],'-',c='grey',linewidth=1.3,zorder=1,alpha=0.95)\n",
    "axes.scatter(mf_x[450:650],mf_y[450:650],s=0.0002*numpy.array(mf_d[450:650]),c='b',zorder=2,alpha=0.5"
   ]
  },
  {
   "cell_type": "markdown",
   "metadata": {
    "collapsed": true
   },
   "source": [
    "# Feature Calculation"
   ]
  },
  {
   "cell_type": "code",
   "execution_count": 12,
   "metadata": {
    "collapsed": true
   },
   "outputs": [],
   "source": [
    "reload(eg)\n",
    "ms1,ms2,ms3,ms4=eg.get_saccade_directions(mf_d,mf_x,mf_y)\n",
    "ns1,ns2,ns3,ns4=eg.get_saccade_directions(nf_d,nf_x,nf_y)\n",
    "ts1,ts2,ts3,ts4=eg.get_saccade_directions(tf_d,tf_x,tf_y)"
   ]
  },
  {
   "cell_type": "code",
   "execution_count": 13,
   "metadata": {
    "collapsed": false
   },
   "outputs": [
    {
     "data": {
      "text/plain": [
       "<matplotlib.text.Text at 0x1128b3b90>"
      ]
     },
     "execution_count": 13,
     "metadata": {},
     "output_type": "execute_result"
    },
    {
     "data": {
      "image/png": "[encoded data removed]",
      "text/plain": [
       "<matplotlib.figure.Figure at 0x1121aa450>"
      ]
     },
     "metadata": {},
     "output_type": "display_data"
    }
   ],
   "source": [
    "plot(ms1,ms2,'v')\n",
    "plot(ns1,ns2,'o')\n",
    "plot(ts1,ts2,'*')\n",
    "title('feature plot')\n",
    "xlabel(\"saccade right\")\n",
    "ylabel(\"saccade down\")"
   ]
  },
  {
   "cell_type": "code",
   "execution_count": null,
   "metadata": {
    "collapsed": true
   },
   "outputs": [],
   "source": []
  }
 ],
 "metadata": {
  "kernelspec": {
   "display_name": "Python 3",
   "language": "python",
   "name": "python3"
  },
  "language_info": {
   "codemirror_mode": {
    "name": "ipython",
    "version": 3
   },
   "file_extension": ".py",
   "mimetype": "text/x-python",
   "name": "python",
   "nbconvert_exporter": "python",
   "pygments_lexer": "ipython3",
   "version": "3.5.2"
  }
 },
 "nbformat": 4,
 "nbformat_minor": 0
}
